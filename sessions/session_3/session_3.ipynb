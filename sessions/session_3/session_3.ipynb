{
 "cells": [
  {
   "cell_type": "markdown",
   "metadata": {},
   "source": [
    "# Attributes of a table, data types and operators"
   ]
  },
  {
   "cell_type": "code",
   "execution_count": 1,
   "metadata": {},
   "outputs": [],
   "source": [
    "import pandas as pd"
   ]
  },
  {
   "cell_type": "code",
   "execution_count": 2,
   "metadata": {},
   "outputs": [],
   "source": [
    "# Load the station.csv file\n",
    "sta = pd.read_csv(filepath_or_buffer='~/python_basics_training/sessions/session_2/station.csv')"
   ]
  },
  {
   "cell_type": "code",
   "execution_count": null,
   "metadata": {},
   "outputs": [],
   "source": []
  },
  {
   "cell_type": "markdown",
   "metadata": {},
   "source": [
    "## A table is a Pandas DataFrame object"
   ]
  },
  {
   "cell_type": "code",
   "execution_count": 3,
   "metadata": {},
   "outputs": [
    {
     "data": {
      "text/plain": [
       "pandas.core.frame.DataFrame"
      ]
     },
     "execution_count": 3,
     "metadata": {},
     "output_type": "execute_result"
    }
   ],
   "source": [
    "# Show data type of sta object\n",
    "type(sta)"
   ]
  },
  {
   "cell_type": "markdown",
   "metadata": {},
   "source": [
    "### What are the characteristics of a table?"
   ]
  },
  {
   "cell_type": "markdown",
   "metadata": {},
   "source": [
    "1. ?\n",
    "2. ?\n",
    "3. ?"
   ]
  },
  {
   "cell_type": "markdown",
   "metadata": {},
   "source": [
    "### What are the attributes of the DataFrame object?"
   ]
  },
  {
   "cell_type": "markdown",
   "metadata": {},
   "source": [
    "1. index\n",
    "2. columns\n",
    "3. dtypes\n",
    "4. values\n",
    "5. axes\n",
    "6. ndim\n",
    "7. size\n",
    "8. shape\n",
    "9. empty"
   ]
  },
  {
   "cell_type": "code",
   "execution_count": null,
   "metadata": {},
   "outputs": [],
   "source": []
  },
  {
   "cell_type": "markdown",
   "metadata": {},
   "source": [
    "### How do we access these attributes?"
   ]
  },
  {
   "cell_type": "code",
   "execution_count": 5,
   "metadata": {},
   "outputs": [
    {
     "data": {
      "text/plain": [
       "RangeIndex(start=0, stop=70, step=1)"
      ]
     },
     "execution_count": 5,
     "metadata": {},
     "output_type": "execute_result"
    }
   ],
   "source": [
    "sta.index"
   ]
  },
  {
   "cell_type": "code",
   "execution_count": 6,
   "metadata": {},
   "outputs": [
    {
     "data": {
      "text/plain": [
       "Index(['station_id', 'station_name', 'lat', 'long', 'dock_count', 'city',\n",
       "       'installation_date', 'zip_code'],\n",
       "      dtype='object')"
      ]
     },
     "execution_count": 6,
     "metadata": {},
     "output_type": "execute_result"
    }
   ],
   "source": [
    "sta.columns"
   ]
  },
  {
   "cell_type": "code",
   "execution_count": 7,
   "metadata": {},
   "outputs": [
    {
     "data": {
      "text/plain": [
       "station_id             int64\n",
       "station_name          object\n",
       "lat                  float64\n",
       "long                 float64\n",
       "dock_count             int64\n",
       "city                  object\n",
       "installation_date     object\n",
       "zip_code               int64\n",
       "dtype: object"
      ]
     },
     "execution_count": 7,
     "metadata": {},
     "output_type": "execute_result"
    }
   ],
   "source": [
    "sta.dtypes"
   ]
  },
  {
   "cell_type": "code",
   "execution_count": 8,
   "metadata": {},
   "outputs": [
    {
     "data": {
      "text/plain": [
       "array([[2, 'San Jose Diridon Caltrain Station', 37.3297, -121.902, 27,\n",
       "        'San Jose', '2013-08-06', 95113],\n",
       "       [3, 'San Jose Civic Center', 37.3307, -121.889, 15, 'San Jose',\n",
       "        '2013-08-05', 95113],\n",
       "       [4, 'Santa Clara at Almaden', 37.334, -121.895, 11, 'San Jose',\n",
       "        '2013-08-06', 95113],\n",
       "       [5, 'Adobe on Almaden', 37.3314, -121.89299999999999, 19,\n",
       "        'San Jose', '2013-08-05', 95113],\n",
       "       [6, 'San Pedro Square', 37.3367, -121.89399999999999, 15,\n",
       "        'San Jose', '2013-08-07', 95113],\n",
       "       [7, 'Paseo de San Antonio', 37.3338, -121.887, 15, 'San Jose',\n",
       "        '2013-08-07', 95113],\n",
       "       [8, 'San Salvador at 1st', 37.3302, -121.88600000000001, 15,\n",
       "        'San Jose', '2013-08-05', 95113],\n",
       "       [9, 'Japantown', 37.3487, -121.895, 15, 'San Jose', '2013-08-05',\n",
       "        95113],\n",
       "       [10, 'San Jose City Hall', 37.3374, -121.887, 15, 'San Jose',\n",
       "        '2013-08-06', 95113],\n",
       "       [11, 'MLK Library', 37.3359, -121.88600000000001, 19, 'San Jose',\n",
       "        '2013-08-06', 95113],\n",
       "       [12, 'SJSU 4th at San Carlos', 37.3328, -121.884, 19, 'San Jose',\n",
       "        '2013-08-07', 95113],\n",
       "       [13, 'St James Park', 37.3393, -121.89, 15, 'San Jose',\n",
       "        '2013-08-06', 95113],\n",
       "       [14, 'Arena Green / SAP Center', 37.3327, -121.9, 19, 'San Jose',\n",
       "        '2013-08-05', 95113],\n",
       "       [16, 'SJSU - San Salvador at 9th', 37.334, -121.87700000000001,\n",
       "        15, 'San Jose', '2013-08-07', 95113],\n",
       "       [21, 'Franklin at Maple', 37.4818, -122.227, 15, 'Redwood City',\n",
       "        '2013-08-12', 94063],\n",
       "       [22, 'Redwood City Caltrain Station', 37.4861,\n",
       "        -122.23200000000001, 25, 'Redwood City', '2013-08-15', 94063],\n",
       "       [23, 'San Mateo County Center', 37.4876, -122.23, 15,\n",
       "        'Redwood City', '2013-08-15', 94063],\n",
       "       [24, 'Redwood City Public Library', 37.4842, -122.227, 15,\n",
       "        'Redwood City', '2013-08-12', 94063],\n",
       "       [25, 'Stanford in Redwood City', 37.4854, -122.20299999999999, 15,\n",
       "        'Redwood City', '2013-08-12', 94063],\n",
       "       [26, 'Redwood City Medical Center', 37.4877, -122.223, 15,\n",
       "        'Redwood City', '2013-08-12', 94063],\n",
       "       [27, 'Mountain View City Hall', 37.3892, -122.08200000000001, 15,\n",
       "        'Mountain View', '2013-08-16', 94041],\n",
       "       [28, 'Mountain View Caltrain Station', 37.3944,\n",
       "        -122.07700000000001, 23, 'Mountain View', '2013-08-15', 94041],\n",
       "       [29, 'San Antonio Caltrain Station', 37.4069, -122.10700000000001,\n",
       "        23, 'Mountain View', '2013-08-15', 94041],\n",
       "       [30, 'Evelyn Park and Ride', 37.3903, -122.06700000000001, 15,\n",
       "        'Mountain View', '2013-08-16', 94041],\n",
       "       [31, 'San Antonio Shopping Center', 37.4004, -122.10799999999999,\n",
       "        15, 'Mountain View', '2013-12-31', 94041],\n",
       "       [32, 'Castro Street and El Camino Real', 37.385999999999996,\n",
       "        -122.084, 11, 'Mountain View', '2013-12-31', 94041],\n",
       "       [33, 'Rengstorff Avenue / California Street', 37.4002,\n",
       "        -122.09899999999999, 15, 'Mountain View', '2013-08-16', 94041],\n",
       "       [34, 'Palo Alto Caltrain Station', 37.444, -122.165, 23,\n",
       "        'Palo Alto', '2013-08-14', 94301],\n",
       "       [35, 'University and Emerson', 37.4445, -122.163, 11, 'Palo Alto',\n",
       "        '2013-08-15', 94301],\n",
       "       [36, 'California Ave Caltrain Station', 37.4291,\n",
       "        -122.14299999999999, 15, 'Palo Alto', '2013-08-14', 94301],\n",
       "       [37, 'Cowper at University', 37.4486, -122.16, 11, 'Palo Alto',\n",
       "        '2013-08-14', 94301],\n",
       "       [38, 'Park at Olive', 37.4257, -122.13799999999999, 15,\n",
       "        'Palo Alto', '2013-08-14', 94301],\n",
       "       [41, 'Clay at Battery', 37.795, -122.4, 15, 'San Francisco',\n",
       "        '2013-08-19', 94107],\n",
       "       [42, 'Davis at Jackson', 37.7973, -122.398, 15, 'San Francisco',\n",
       "        '2013-08-19', 94107],\n",
       "       [45, 'Commercial at Montgomery', 37.7942, -122.40299999999999, 15,\n",
       "        'San Francisco', '2013-08-19', 94107],\n",
       "       [46, 'Washington at Kearney', 37.7954, -122.405, 15,\n",
       "        'San Francisco', '2013-08-19', 94107],\n",
       "       [47, 'Post at Kearney', 37.789, -122.40299999999999, 19,\n",
       "        'San Francisco', '2013-08-19', 94107],\n",
       "       [48, 'Embarcadero at Vallejo', 37.8, -122.399, 15,\n",
       "        'San Francisco', '2013-08-19', 94107],\n",
       "       [49, 'Spear at Folsom', 37.7903, -122.391, 19, 'San Francisco',\n",
       "        '2013-08-20', 94107],\n",
       "       [50, 'Harry Bridges Plaza (Ferry Building)', 37.7954,\n",
       "        -122.39399999999999, 23, 'San Francisco', '2013-08-20', 94107],\n",
       "       [51, 'Embarcadero at Folsom', 37.7915, -122.391, 19,\n",
       "        'San Francisco', '2013-08-20', 94107],\n",
       "       [39, 'Powell Street BART', 37.7839, -122.40799999999999, 19,\n",
       "        'San Francisco', '2013-08-25', 94107],\n",
       "       [54, 'Embarcadero at Bryant', 37.7872, -122.38799999999999, 15,\n",
       "        'San Francisco', '2013-08-20', 94107],\n",
       "       [55, 'Temporary Transbay Terminal (Howard at Beale)', 37.7898,\n",
       "        -122.395, 23, 'San Francisco', '2013-08-20', 94107],\n",
       "       [56, 'Beale at Market', 37.7923, -122.397, 19, 'San Francisco',\n",
       "        '2013-08-20', 94107],\n",
       "       [57, '5th at Howard', 37.7818, -122.405, 15, 'San Francisco',\n",
       "        '2013-08-21', 94107],\n",
       "       [58, 'San Francisco City Hall', 37.7786, -122.41799999999999, 19,\n",
       "        'San Francisco', '2013-08-21', 94107],\n",
       "       [59, 'Golden Gate at Polk', 37.7813, -122.419, 23,\n",
       "        'San Francisco', '2013-08-21', 94107],\n",
       "       [60, 'Embarcadero at Sansome', 37.8048, -122.40299999999999, 15,\n",
       "        'San Francisco', '2013-08-21', 94107],\n",
       "       [61, '2nd at Townsend', 37.7805, -122.39, 27, 'San Francisco',\n",
       "        '2013-08-22', 94107],\n",
       "       [62, '2nd at Folsom', 37.7853, -122.396, 19, 'San Francisco',\n",
       "        '2013-08-22', 94107],\n",
       "       [63, 'Howard at 2nd', 37.787, -122.398, 19, 'San Francisco',\n",
       "        '2013-08-22', 94107],\n",
       "       [64, '2nd at South Park', 37.7823, -122.39299999999999, 15,\n",
       "        'San Francisco', '2013-08-22', 94107],\n",
       "       [65, 'Townsend at 7th', 37.7711, -122.40299999999999, 15,\n",
       "        'San Francisco', '2013-08-22', 94107],\n",
       "       [66, 'South Van Ness at Market', 37.7748, -122.419, 19,\n",
       "        'San Francisco', '2013-08-23', 94107],\n",
       "       [67, 'Market at 10th', 37.7766, -122.417, 27, 'San Francisco',\n",
       "        '2013-08-23', 94107],\n",
       "       [68, 'Yerba Buena Center of the Arts (3rd @ Howard)', 37.7849,\n",
       "        -122.40100000000001, 19, 'San Francisco', '2013-08-23', 94107],\n",
       "       [69, 'San Francisco Caltrain 2 (330 Townsend)', 37.7766, -122.395,\n",
       "        23, 'San Francisco', '2013-08-23', 94107],\n",
       "       [70, 'San Francisco Caltrain (Townsend at 4th)', 37.7766,\n",
       "        -122.395, 19, 'San Francisco', '2013-08-23', 94107],\n",
       "       [71, 'Powell at Post (Union Square)', 37.7884,\n",
       "        -122.40899999999999, 19, 'San Francisco', '2013-08-23', 94107],\n",
       "       [72, 'Civic Center BART (7th at Market)', 37.781, -122.412, 23,\n",
       "        'San Francisco', '2013-08-23', 94107],\n",
       "       [73, 'Grant Avenue at Columbus Avenue', 37.7985,\n",
       "        -122.40700000000001, 15, 'San Francisco', '2013-08-21', 94107],\n",
       "       [74, 'Steuart at Market', 37.7941, -122.39399999999999, 23,\n",
       "        'San Francisco', '2013-08-25', 94107],\n",
       "       [75, 'Mechanics Plaza (Market at Battery)', 37.7913, -122.399, 19,\n",
       "        'San Francisco', '2013-08-25', 94107],\n",
       "       [76, 'Market at 4th', 37.7863, -122.405, 19, 'San Francisco',\n",
       "        '2013-08-25', 94107],\n",
       "       [77, 'Market at Sansome', 37.7896, -122.40100000000001, 27,\n",
       "        'San Francisco', '2013-08-25', 94107],\n",
       "       [80, 'Santa Clara County Civic Center', 37.3526, -121.906, 15,\n",
       "        'San Jose', '2013-12-31', 95113],\n",
       "       [82, 'Broadway St at Battery St', 37.7985, -122.40100000000001,\n",
       "        15, 'San Francisco', '2014-01-22', 94107],\n",
       "       [83, 'Mezes Park', 37.4913, -122.236, 15, 'Redwood City',\n",
       "        '2014-02-20', 94063],\n",
       "       [84, 'Ryland Park', 37.3427, -121.896, 15, 'San Jose',\n",
       "        '2014-04-09', 95113]], dtype=object)"
      ]
     },
     "execution_count": 8,
     "metadata": {},
     "output_type": "execute_result"
    }
   ],
   "source": [
    "sta.values"
   ]
  },
  {
   "cell_type": "code",
   "execution_count": 9,
   "metadata": {},
   "outputs": [
    {
     "data": {
      "text/plain": [
       "[RangeIndex(start=0, stop=70, step=1),\n",
       " Index(['station_id', 'station_name', 'lat', 'long', 'dock_count', 'city',\n",
       "        'installation_date', 'zip_code'],\n",
       "       dtype='object')]"
      ]
     },
     "execution_count": 9,
     "metadata": {},
     "output_type": "execute_result"
    }
   ],
   "source": [
    "sta.axes"
   ]
  },
  {
   "cell_type": "code",
   "execution_count": 10,
   "metadata": {},
   "outputs": [
    {
     "data": {
      "text/plain": [
       "2"
      ]
     },
     "execution_count": 10,
     "metadata": {},
     "output_type": "execute_result"
    }
   ],
   "source": [
    "sta.ndim"
   ]
  },
  {
   "cell_type": "code",
   "execution_count": 12,
   "metadata": {},
   "outputs": [
    {
     "data": {
      "text/plain": [
       "560"
      ]
     },
     "execution_count": 12,
     "metadata": {},
     "output_type": "execute_result"
    }
   ],
   "source": [
    "sta.size"
   ]
  },
  {
   "cell_type": "code",
   "execution_count": 13,
   "metadata": {},
   "outputs": [
    {
     "data": {
      "text/plain": [
       "(70, 8)"
      ]
     },
     "execution_count": 13,
     "metadata": {},
     "output_type": "execute_result"
    }
   ],
   "source": [
    "sta.shape"
   ]
  },
  {
   "cell_type": "code",
   "execution_count": 17,
   "metadata": {},
   "outputs": [
    {
     "data": {
      "text/plain": [
       "False"
      ]
     },
     "execution_count": 17,
     "metadata": {},
     "output_type": "execute_result"
    }
   ],
   "source": [
    "sta.empty"
   ]
  },
  {
   "cell_type": "markdown",
   "metadata": {},
   "source": [
    "## What does it mean that a table is type Pandas DataFrame?"
   ]
  },
  {
   "cell_type": "markdown",
   "metadata": {},
   "source": [
    "### The developers of Pandas created that class. We can create our own class too"
   ]
  },
  {
   "cell_type": "code",
   "execution_count": 26,
   "metadata": {},
   "outputs": [],
   "source": [
    "class Salvador(object):\n",
    "    def __init__(self):\n",
    "        self.name = 'Salvador'\n",
    "        self.favorite_color = 'Purple'\n",
    "\n",
    "sal =  Salvador()\n",
    "    "
   ]
  },
  {
   "cell_type": "code",
   "execution_count": 27,
   "metadata": {},
   "outputs": [
    {
     "data": {
      "text/plain": [
       "__main__.Salvador"
      ]
     },
     "execution_count": 27,
     "metadata": {},
     "output_type": "execute_result"
    }
   ],
   "source": [
    "type(sal)"
   ]
  },
  {
   "cell_type": "code",
   "execution_count": 28,
   "metadata": {},
   "outputs": [
    {
     "data": {
      "text/plain": [
       "'Salvador'"
      ]
     },
     "execution_count": 28,
     "metadata": {},
     "output_type": "execute_result"
    }
   ],
   "source": [
    "sal.name"
   ]
  },
  {
   "cell_type": "code",
   "execution_count": 29,
   "metadata": {},
   "outputs": [
    {
     "data": {
      "text/plain": [
       "'Purple'"
      ]
     },
     "execution_count": 29,
     "metadata": {},
     "output_type": "execute_result"
    }
   ],
   "source": [
    "sal.favorite_color"
   ]
  },
  {
   "cell_type": "markdown",
   "metadata": {},
   "source": [
    "### There are builtin types"
   ]
  },
  {
   "cell_type": "markdown",
   "metadata": {},
   "source": [
    "Examples here are from https://www.cs.cmu.edu/~112/notes/notes-data-and-operations.html#BuiltinTypes"
   ]
  },
  {
   "cell_type": "code",
   "execution_count": 32,
   "metadata": {},
   "outputs": [
    {
     "name": "stdout",
     "output_type": "stream",
     "text": [
      "<class 'int'>\n",
      "<class 'float'>\n",
      "<class 'bool'>\n",
      "<class 'str'>\n",
      "<class 'list'>\n",
      "<class 'tuple'>\n",
      "<class 'set'>\n",
      "<class 'dict'>\n",
      "<class 'complex'>\n"
     ]
    }
   ],
   "source": [
    "print(type(2))           # int\n",
    "print(type(2.2))         # float\n",
    "print(type(2 < 2.2))     # bool (boolean)\n",
    "print(type(\"2.2\"))       # str (string or text)\n",
    "print(type([1,2,3]))     # list\n",
    "print(type((1,2,3)))     # tuple\n",
    "print(type({1,2}))       # set\n",
    "print(type({1:42}))      # dict (dictionary or map)\n",
    "print(type(2+3j))        # complex  (complex number)"
   ]
  },
  {
   "cell_type": "code",
   "execution_count": null,
   "metadata": {},
   "outputs": [],
   "source": []
  },
  {
   "cell_type": "markdown",
   "metadata": {},
   "source": [
    "## Builtin operators"
   ]
  },
  {
   "cell_type": "markdown",
   "metadata": {},
   "source": [
    "You can watch [the videos](https://www.cs.cmu.edu/~112/notes/notes-data-and-operations.html#BuiltinTypes) from sections 1. Some Builtin Types, 2. Some Builtin Constants, 3. Some Builtin Operators"
   ]
  },
  {
   "cell_type": "code",
   "execution_count": 53,
   "metadata": {},
   "outputs": [
    {
     "name": "stdout",
     "output_type": "stream",
     "text": [
      "1+1:  2\n",
      "30-2:  28\n",
      "78*2:  156\n",
      "45/2:  22.5\n",
      "45//2:  22\n",
      "3**3:  27\n",
      "7%2:  1\n",
      "3 > 5:  False\n",
      "3 < 5:  True\n",
      "3 == 3:  True\n",
      "2 != 3:  True\n"
     ]
    }
   ],
   "source": [
    "print('1+1: ', 1+1)\n",
    "print('30-2: ', 30-2)\n",
    "print('78*2: ', 78*2)\n",
    "print('45/2: ', 45/2)\n",
    "print('45//2: ', 45//2)\n",
    "print('3**3: ', 3**3)\n",
    "print('7%2: ', 7%2)\n",
    "print('3 > 5: ', 3 > 5)\n",
    "print('3 < 5: ', 3 < 5)\n",
    "print('3 == 3: ', 3 == 3)\n",
    "print('2 != 3: ', 2 != 3)"
   ]
  },
  {
   "cell_type": "code",
   "execution_count": null,
   "metadata": {},
   "outputs": [],
   "source": []
  },
  {
   "cell_type": "markdown",
   "metadata": {},
   "source": [
    "### Variables"
   ]
  },
  {
   "cell_type": "markdown",
   "metadata": {},
   "source": [
    "- If we have time, let's talk about variables"
   ]
  },
  {
   "cell_type": "code",
   "execution_count": null,
   "metadata": {},
   "outputs": [],
   "source": []
  }
 ],
 "metadata": {
  "kernelspec": {
   "display_name": "Python 3",
   "language": "python",
   "name": "python3"
  },
  "language_info": {
   "codemirror_mode": {
    "name": "ipython",
    "version": 3
   },
   "file_extension": ".py",
   "mimetype": "text/x-python",
   "name": "python",
   "nbconvert_exporter": "python",
   "pygments_lexer": "ipython3",
   "version": "3.7.4"
  }
 },
 "nbformat": 4,
 "nbformat_minor": 2
}
