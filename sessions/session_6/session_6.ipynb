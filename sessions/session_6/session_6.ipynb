{
 "cells": [
  {
   "cell_type": "markdown",
   "metadata": {},
   "source": [
    "# Grouping by in Pandas"
   ]
  },
  {
   "cell_type": "code",
   "execution_count": 1,
   "metadata": {},
   "outputs": [],
   "source": [
    "import pandas as pd"
   ]
  },
  {
   "cell_type": "markdown",
   "metadata": {},
   "source": [
    "### Start by loading the trips data"
   ]
  },
  {
   "cell_type": "markdown",
   "metadata": {},
   "source": [
    "- Remember that in this dataset each row is a trip. \n",
    "- We have the data for the station where the trip started and the station where the trip ended. "
   ]
  },
  {
   "cell_type": "code",
   "execution_count": 7,
   "metadata": {},
   "outputs": [],
   "source": [
    "# Load the station.csv file\n",
    "trip = pd.read_csv(filepath_or_buffer='~/python_basics_training/sessions/session_2/trip.csv')"
   ]
  },
  {
   "cell_type": "code",
   "execution_count": 10,
   "metadata": {},
   "outputs": [
    {
     "data": {
      "text/html": [
       "<div>\n",
       "<style scoped>\n",
       "    .dataframe tbody tr th:only-of-type {\n",
       "        vertical-align: middle;\n",
       "    }\n",
       "\n",
       "    .dataframe tbody tr th {\n",
       "        vertical-align: top;\n",
       "    }\n",
       "\n",
       "    .dataframe thead th {\n",
       "        text-align: right;\n",
       "    }\n",
       "</style>\n",
       "<table border=\"1\" class=\"dataframe\">\n",
       "  <thead>\n",
       "    <tr style=\"text-align: right;\">\n",
       "      <th></th>\n",
       "      <th>id</th>\n",
       "      <th>duration</th>\n",
       "      <th>start_time</th>\n",
       "      <th>start_station_name</th>\n",
       "      <th>start_station_id</th>\n",
       "      <th>end_time</th>\n",
       "      <th>end_station_name</th>\n",
       "      <th>end_station_id</th>\n",
       "      <th>bike_id</th>\n",
       "    </tr>\n",
       "  </thead>\n",
       "  <tbody>\n",
       "    <tr>\n",
       "      <th>0</th>\n",
       "      <td>4576</td>\n",
       "      <td>63</td>\n",
       "      <td>2013-08-29 14:13:00</td>\n",
       "      <td>South Van Ness at Market</td>\n",
       "      <td>66</td>\n",
       "      <td>2013-08-29 14:14:00</td>\n",
       "      <td>South Van Ness at Market</td>\n",
       "      <td>66</td>\n",
       "      <td>520</td>\n",
       "    </tr>\n",
       "    <tr>\n",
       "      <th>1</th>\n",
       "      <td>4607</td>\n",
       "      <td>70</td>\n",
       "      <td>2013-08-29 14:42:00</td>\n",
       "      <td>San Jose City Hall</td>\n",
       "      <td>10</td>\n",
       "      <td>2013-08-29 14:43:00</td>\n",
       "      <td>San Jose City Hall</td>\n",
       "      <td>10</td>\n",
       "      <td>661</td>\n",
       "    </tr>\n",
       "    <tr>\n",
       "      <th>2</th>\n",
       "      <td>4130</td>\n",
       "      <td>71</td>\n",
       "      <td>2013-08-29 10:16:00</td>\n",
       "      <td>Mountain View City Hall</td>\n",
       "      <td>27</td>\n",
       "      <td>2013-08-29 10:17:00</td>\n",
       "      <td>Mountain View City Hall</td>\n",
       "      <td>27</td>\n",
       "      <td>48</td>\n",
       "    </tr>\n",
       "    <tr>\n",
       "      <th>3</th>\n",
       "      <td>4251</td>\n",
       "      <td>77</td>\n",
       "      <td>2013-08-29 11:29:00</td>\n",
       "      <td>San Jose City Hall</td>\n",
       "      <td>10</td>\n",
       "      <td>2013-08-29 11:30:00</td>\n",
       "      <td>San Jose City Hall</td>\n",
       "      <td>10</td>\n",
       "      <td>26</td>\n",
       "    </tr>\n",
       "    <tr>\n",
       "      <th>4</th>\n",
       "      <td>4299</td>\n",
       "      <td>83</td>\n",
       "      <td>2013-08-29 12:02:00</td>\n",
       "      <td>South Van Ness at Market</td>\n",
       "      <td>66</td>\n",
       "      <td>2013-08-29 12:04:00</td>\n",
       "      <td>Market at 10th</td>\n",
       "      <td>67</td>\n",
       "      <td>319</td>\n",
       "    </tr>\n",
       "  </tbody>\n",
       "</table>\n",
       "</div>"
      ],
      "text/plain": [
       "     id  duration           start_time        start_station_name  \\\n",
       "0  4576        63  2013-08-29 14:13:00  South Van Ness at Market   \n",
       "1  4607        70  2013-08-29 14:42:00        San Jose City Hall   \n",
       "2  4130        71  2013-08-29 10:16:00   Mountain View City Hall   \n",
       "3  4251        77  2013-08-29 11:29:00        San Jose City Hall   \n",
       "4  4299        83  2013-08-29 12:02:00  South Van Ness at Market   \n",
       "\n",
       "   start_station_id             end_time          end_station_name  \\\n",
       "0                66  2013-08-29 14:14:00  South Van Ness at Market   \n",
       "1                10  2013-08-29 14:43:00        San Jose City Hall   \n",
       "2                27  2013-08-29 10:17:00   Mountain View City Hall   \n",
       "3                10  2013-08-29 11:30:00        San Jose City Hall   \n",
       "4                66  2013-08-29 12:04:00            Market at 10th   \n",
       "\n",
       "   end_station_id  bike_id  \n",
       "0              66      520  \n",
       "1              10      661  \n",
       "2              27       48  \n",
       "3              10       26  \n",
       "4              67      319  "
      ]
     },
     "execution_count": 10,
     "metadata": {},
     "output_type": "execute_result"
    }
   ],
   "source": [
    "trip.head()"
   ]
  },
  {
   "cell_type": "markdown",
   "metadata": {},
   "source": [
    "### How many unique start stations do we have?"
   ]
  },
  {
   "cell_type": "code",
   "execution_count": 57,
   "metadata": {},
   "outputs": [
    {
     "data": {
      "text/plain": [
       "(74,)"
      ]
     },
     "execution_count": 57,
     "metadata": {},
     "output_type": "execute_result"
    }
   ],
   "source": [
    "trip.start_station_name.unique().shape"
   ]
  },
  {
   "cell_type": "code",
   "execution_count": null,
   "metadata": {},
   "outputs": [],
   "source": []
  },
  {
   "cell_type": "markdown",
   "metadata": {},
   "source": [
    "### How many unique end stations do we have?"
   ]
  },
  {
   "cell_type": "code",
   "execution_count": 58,
   "metadata": {},
   "outputs": [
    {
     "data": {
      "text/plain": [
       "(74,)"
      ]
     },
     "execution_count": 58,
     "metadata": {},
     "output_type": "execute_result"
    }
   ],
   "source": [
    "trip.start_station_name.unique().shape"
   ]
  },
  {
   "cell_type": "code",
   "execution_count": null,
   "metadata": {},
   "outputs": [],
   "source": []
  },
  {
   "cell_type": "markdown",
   "metadata": {},
   "source": [
    "### Is there any start station not available as end station?"
   ]
  },
  {
   "cell_type": "markdown",
   "metadata": {},
   "source": [
    "- No :)"
   ]
  },
  {
   "cell_type": "code",
   "execution_count": 59,
   "metadata": {},
   "outputs": [
    {
     "data": {
      "text/plain": [
       "set()"
      ]
     },
     "execution_count": 59,
     "metadata": {},
     "output_type": "execute_result"
    }
   ],
   "source": [
    "set(trip.start_station_name.unique()) ^ set(trip.start_station_name.unique())"
   ]
  },
  {
   "cell_type": "markdown",
   "metadata": {},
   "source": [
    "### How many trips per start station do we have?\n"
   ]
  },
  {
   "cell_type": "markdown",
   "metadata": {},
   "source": [
    "#### SQL answer"
   ]
  },
  {
   "cell_type": "markdown",
   "metadata": {},
   "source": [
    "```\n",
    "SELECT start_station_name AS start_station\n",
    "       COUNT(id) AS cnt_trips\n",
    "  FROM trip\n",
    " GROUP BY start_station_name\n",
    "```"
   ]
  },
  {
   "cell_type": "markdown",
   "metadata": {},
   "source": [
    "### Start by creating a groupby object"
   ]
  },
  {
   "cell_type": "markdown",
   "metadata": {},
   "source": [
    "- You will need to pass as parameter to the groupby method the columns that you want to use to aggregate.\n",
    "- In this case, it would be start_station_name."
   ]
  },
  {
   "cell_type": "code",
   "execution_count": 67,
   "metadata": {},
   "outputs": [
    {
     "data": {
      "text/plain": [
       "pandas.core.groupby.groupby.DataFrameGroupBy"
      ]
     },
     "execution_count": 67,
     "metadata": {},
     "output_type": "execute_result"
    }
   ],
   "source": [
    "g_object = trip.groupby(by='start_station_name')\n",
    "type(g_object)"
   ]
  },
  {
   "cell_type": "markdown",
   "metadata": {},
   "source": [
    "- That object is a list of tuples where each tuple has two items. The first item is the key used to group by and the second item is the dataframe that corresponds to that key. \n",
    "- If there are 70 unique start_station_id, how many keys does the object contain?\n",
    "- If there are 70 unique start_station_id, how many dataframes does the object contain?"
   ]
  },
  {
   "cell_type": "code",
   "execution_count": 64,
   "metadata": {
    "scrolled": true
   },
   "outputs": [
    {
     "name": "stdout",
     "output_type": "stream",
     "text": [
      "['2nd at Folsom', '2nd at South Park', '2nd at Townsend', '5th at Howard', 'Adobe on Almaden', 'Arena Green / SAP Center', 'Beale at Market', 'Broadway St at Battery St', 'Broadway at Main', 'California Ave Caltrain Station', 'Castro Street and El Camino Real', 'Civic Center BART (7th at Market)', 'Clay at Battery', 'Commercial at Montgomery', 'Cowper at University', 'Davis at Jackson', 'Embarcadero at Bryant', 'Embarcadero at Folsom', 'Embarcadero at Sansome', 'Embarcadero at Vallejo', 'Evelyn Park and Ride', 'Franklin at Maple', 'Golden Gate at Polk', 'Grant Avenue at Columbus Avenue', 'Harry Bridges Plaza (Ferry Building)', 'Howard at 2nd', 'Japantown', 'MLK Library', 'Market at 10th', 'Market at 4th', 'Market at Sansome', 'Mechanics Plaza (Market at Battery)', 'Mezes Park', 'Mountain View Caltrain Station', 'Mountain View City Hall', 'Palo Alto Caltrain Station', 'Park at Olive', 'Paseo de San Antonio', 'Post at Kearney', 'Post at Kearny', 'Powell Street BART', 'Powell at Post (Union Square)', 'Redwood City Caltrain Station', 'Redwood City Medical Center', 'Redwood City Public Library', 'Rengstorff Avenue / California Street', 'Ryland Park', 'SJSU - San Salvador at 9th', 'SJSU 4th at San Carlos', 'San Antonio Caltrain Station', 'San Antonio Shopping Center', 'San Francisco Caltrain (Townsend at 4th)', 'San Francisco Caltrain 2 (330 Townsend)', 'San Francisco City Hall', 'San Jose City Hall', 'San Jose Civic Center', 'San Jose Diridon Caltrain Station', 'San Jose Government Center', 'San Mateo County Center', 'San Pedro Square', 'San Salvador at 1st', 'Santa Clara County Civic Center', 'Santa Clara at Almaden', 'South Van Ness at Market', 'Spear at Folsom', 'St James Park', 'Stanford in Redwood City', 'Steuart at Market', 'Temporary Transbay Terminal (Howard at Beale)', 'Townsend at 7th', 'University and Emerson', 'Washington at Kearney', 'Washington at Kearny', 'Yerba Buena Center of the Arts (3rd @ Howard)']\n"
     ]
    }
   ],
   "source": [
    "print([key for key,df in g_object])"
   ]
  },
  {
   "cell_type": "code",
   "execution_count": null,
   "metadata": {},
   "outputs": [],
   "source": []
  },
  {
   "cell_type": "markdown",
   "metadata": {},
   "source": [
    "### Now that you have a groupby object, you can apply operations to one or multiple columns"
   ]
  },
  {
   "cell_type": "markdown",
   "metadata": {},
   "source": [
    "- Just as a reminder, this is how the `trips` data looks like:"
   ]
  },
  {
   "cell_type": "code",
   "execution_count": 71,
   "metadata": {},
   "outputs": [
    {
     "data": {
      "text/html": [
       "<div>\n",
       "<style scoped>\n",
       "    .dataframe tbody tr th:only-of-type {\n",
       "        vertical-align: middle;\n",
       "    }\n",
       "\n",
       "    .dataframe tbody tr th {\n",
       "        vertical-align: top;\n",
       "    }\n",
       "\n",
       "    .dataframe thead th {\n",
       "        text-align: right;\n",
       "    }\n",
       "</style>\n",
       "<table border=\"1\" class=\"dataframe\">\n",
       "  <thead>\n",
       "    <tr style=\"text-align: right;\">\n",
       "      <th></th>\n",
       "      <th>id</th>\n",
       "      <th>duration</th>\n",
       "      <th>start_time</th>\n",
       "      <th>start_station_name</th>\n",
       "      <th>start_station_id</th>\n",
       "      <th>end_time</th>\n",
       "      <th>end_station_name</th>\n",
       "      <th>end_station_id</th>\n",
       "      <th>bike_id</th>\n",
       "    </tr>\n",
       "  </thead>\n",
       "  <tbody>\n",
       "    <tr>\n",
       "      <th>0</th>\n",
       "      <td>4576</td>\n",
       "      <td>63</td>\n",
       "      <td>2013-08-29 14:13:00</td>\n",
       "      <td>South Van Ness at Market</td>\n",
       "      <td>66</td>\n",
       "      <td>2013-08-29 14:14:00</td>\n",
       "      <td>South Van Ness at Market</td>\n",
       "      <td>66</td>\n",
       "      <td>520</td>\n",
       "    </tr>\n",
       "    <tr>\n",
       "      <th>1</th>\n",
       "      <td>4607</td>\n",
       "      <td>70</td>\n",
       "      <td>2013-08-29 14:42:00</td>\n",
       "      <td>San Jose City Hall</td>\n",
       "      <td>10</td>\n",
       "      <td>2013-08-29 14:43:00</td>\n",
       "      <td>San Jose City Hall</td>\n",
       "      <td>10</td>\n",
       "      <td>661</td>\n",
       "    </tr>\n",
       "    <tr>\n",
       "      <th>2</th>\n",
       "      <td>4130</td>\n",
       "      <td>71</td>\n",
       "      <td>2013-08-29 10:16:00</td>\n",
       "      <td>Mountain View City Hall</td>\n",
       "      <td>27</td>\n",
       "      <td>2013-08-29 10:17:00</td>\n",
       "      <td>Mountain View City Hall</td>\n",
       "      <td>27</td>\n",
       "      <td>48</td>\n",
       "    </tr>\n",
       "    <tr>\n",
       "      <th>3</th>\n",
       "      <td>4251</td>\n",
       "      <td>77</td>\n",
       "      <td>2013-08-29 11:29:00</td>\n",
       "      <td>San Jose City Hall</td>\n",
       "      <td>10</td>\n",
       "      <td>2013-08-29 11:30:00</td>\n",
       "      <td>San Jose City Hall</td>\n",
       "      <td>10</td>\n",
       "      <td>26</td>\n",
       "    </tr>\n",
       "    <tr>\n",
       "      <th>4</th>\n",
       "      <td>4299</td>\n",
       "      <td>83</td>\n",
       "      <td>2013-08-29 12:02:00</td>\n",
       "      <td>South Van Ness at Market</td>\n",
       "      <td>66</td>\n",
       "      <td>2013-08-29 12:04:00</td>\n",
       "      <td>Market at 10th</td>\n",
       "      <td>67</td>\n",
       "      <td>319</td>\n",
       "    </tr>\n",
       "  </tbody>\n",
       "</table>\n",
       "</div>"
      ],
      "text/plain": [
       "     id  duration           start_time        start_station_name  \\\n",
       "0  4576        63  2013-08-29 14:13:00  South Van Ness at Market   \n",
       "1  4607        70  2013-08-29 14:42:00        San Jose City Hall   \n",
       "2  4130        71  2013-08-29 10:16:00   Mountain View City Hall   \n",
       "3  4251        77  2013-08-29 11:29:00        San Jose City Hall   \n",
       "4  4299        83  2013-08-29 12:02:00  South Van Ness at Market   \n",
       "\n",
       "   start_station_id             end_time          end_station_name  \\\n",
       "0                66  2013-08-29 14:14:00  South Van Ness at Market   \n",
       "1                10  2013-08-29 14:43:00        San Jose City Hall   \n",
       "2                27  2013-08-29 10:17:00   Mountain View City Hall   \n",
       "3                10  2013-08-29 11:30:00        San Jose City Hall   \n",
       "4                66  2013-08-29 12:04:00            Market at 10th   \n",
       "\n",
       "   end_station_id  bike_id  \n",
       "0              66      520  \n",
       "1              10      661  \n",
       "2              27       48  \n",
       "3              10       26  \n",
       "4              67      319  "
      ]
     },
     "execution_count": 71,
     "metadata": {},
     "output_type": "execute_result"
    }
   ],
   "source": [
    "trip.head()"
   ]
  },
  {
   "cell_type": "markdown",
   "metadata": {},
   "source": [
    "- And this is the SQL query that we want to run:\n",
    "\n",
    "```\n",
    "SELECT start_station_name AS start_station\n",
    "       COUNT(id) AS cnt_trips\n",
    "  FROM trip\n",
    " GROUP BY start_station_name\n",
    "```\n",
    "\n",
    "- So we would like to count the number of trips per start_station. \n",
    "- This is how you do it in Python:"
   ]
  },
  {
   "cell_type": "code",
   "execution_count": 73,
   "metadata": {},
   "outputs": [
    {
     "data": {
      "text/plain": [
       "start_station_name\n",
       "2nd at Folsom                                    15940\n",
       "2nd at South Park                                18496\n",
       "2nd at Townsend                                  25837\n",
       "5th at Howard                                    13526\n",
       "Adobe on Almaden                                  1257\n",
       "Arena Green / SAP Center                          1496\n",
       "Beale at Market                                  15709\n",
       "Broadway St at Battery St                        10310\n",
       "Broadway at Main                                    67\n",
       "California Ave Caltrain Station                   1026\n",
       "Castro Street and El Camino Real                  2035\n",
       "Civic Center BART (7th at Market)                14102\n",
       "Clay at Battery                                   9994\n",
       "Commercial at Montgomery                         11888\n",
       "Cowper at University                              1374\n",
       "Davis at Jackson                                  9957\n",
       "Embarcadero at Bryant                            14811\n",
       "Embarcadero at Folsom                            14054\n",
       "Embarcadero at Sansome                           27713\n",
       "Embarcadero at Vallejo                           10592\n",
       "Evelyn Park and Ride                              1667\n",
       "Franklin at Maple                                  224\n",
       "Golden Gate at Polk                               7342\n",
       "Grant Avenue at Columbus Avenue                  16306\n",
       "Harry Bridges Plaza (Ferry Building)             32934\n",
       "Howard at 2nd                                    13163\n",
       "Japantown                                         1910\n",
       "MLK Library                                       2034\n",
       "Market at 10th                                   20272\n",
       "Market at 4th                                    20165\n",
       "                                                 ...  \n",
       "Redwood City Public Library                        213\n",
       "Rengstorff Avenue / California Street             1129\n",
       "Ryland Park                                       1747\n",
       "SJSU - San Salvador at 9th                        1473\n",
       "SJSU 4th at San Carlos                            1170\n",
       "San Antonio Caltrain Station                      1990\n",
       "San Antonio Shopping Center                       1818\n",
       "San Francisco Caltrain (Townsend at 4th)         49092\n",
       "San Francisco Caltrain 2 (330 Townsend)          33742\n",
       "San Francisco City Hall                           4535\n",
       "San Jose City Hall                                2393\n",
       "San Jose Civic Center                             1594\n",
       "San Jose Diridon Caltrain Station                 9558\n",
       "San Jose Government Center                          23\n",
       "San Mateo County Center                            287\n",
       "San Pedro Square                                  2917\n",
       "San Salvador at 1st                               1692\n",
       "Santa Clara County Civic Center                    840\n",
       "Santa Clara at Almaden                            3861\n",
       "South Van Ness at Market                         12880\n",
       "Spear at Folsom                                  11949\n",
       "St James Park                                     1680\n",
       "Stanford in Redwood City                           436\n",
       "Steuart at Market                                24838\n",
       "Temporary Transbay Terminal (Howard at Beale)    26089\n",
       "Townsend at 7th                                  23724\n",
       "University and Emerson                            1512\n",
       "Washington at Kearney                             1472\n",
       "Washington at Kearny                              4292\n",
       "Yerba Buena Center of the Arts (3rd @ Howard)    11251\n",
       "Name: id, Length: 74, dtype: int64"
      ]
     },
     "execution_count": 73,
     "metadata": {},
     "output_type": "execute_result"
    }
   ],
   "source": [
    "trip.groupby(by='start_station_name').id.count()"
   ]
  },
  {
   "cell_type": "code",
   "execution_count": null,
   "metadata": {},
   "outputs": [],
   "source": []
  },
  {
   "cell_type": "markdown",
   "metadata": {},
   "source": [
    "### And what if we want to add an order_by clause to that line of code?"
   ]
  },
  {
   "cell_type": "markdown",
   "metadata": {},
   "source": [
    "```\n",
    "SELECT start_station_name AS start_station\n",
    "       COUNT(id) AS cnt_trips\n",
    "  FROM trip\n",
    " GROUP BY start_station_name\n",
    " ORDER BY cnt_trips DESC\n",
    "```"
   ]
  },
  {
   "cell_type": "markdown",
   "metadata": {},
   "source": [
    "- We can just use the method `sort_values`"
   ]
  },
  {
   "cell_type": "code",
   "execution_count": 76,
   "metadata": {
    "scrolled": true
   },
   "outputs": [
    {
     "data": {
      "text/plain": [
       "start_station_name\n",
       "San Francisco Caltrain (Townsend at 4th)         49092\n",
       "San Francisco Caltrain 2 (330 Townsend)          33742\n",
       "Harry Bridges Plaza (Ferry Building)             32934\n",
       "Embarcadero at Sansome                           27713\n",
       "Temporary Transbay Terminal (Howard at Beale)    26089\n",
       "2nd at Townsend                                  25837\n",
       "Steuart at Market                                24838\n",
       "Market at Sansome                                24172\n",
       "Townsend at 7th                                  23724\n",
       "Market at 10th                                   20272\n",
       "Market at 4th                                    20165\n",
       "2nd at South Park                                18496\n",
       "Powell Street BART                               18378\n",
       "Grant Avenue at Columbus Avenue                  16306\n",
       "2nd at Folsom                                    15940\n",
       "Beale at Market                                  15709\n",
       "Embarcadero at Bryant                            14811\n",
       "Civic Center BART (7th at Market)                14102\n",
       "Embarcadero at Folsom                            14054\n",
       "5th at Howard                                    13526\n",
       "Howard at 2nd                                    13163\n",
       "South Van Ness at Market                         12880\n",
       "Powell at Post (Union Square)                    12496\n",
       "Mechanics Plaza (Market at Battery)              12224\n",
       "Spear at Folsom                                  11949\n",
       "Commercial at Montgomery                         11888\n",
       "Yerba Buena Center of the Arts (3rd @ Howard)    11251\n",
       "Embarcadero at Vallejo                           10592\n",
       "Broadway St at Battery St                        10310\n",
       "Clay at Battery                                   9994\n",
       "                                                 ...  \n",
       "Castro Street and El Camino Real                  2035\n",
       "MLK Library                                       2034\n",
       "San Antonio Caltrain Station                      1990\n",
       "Japantown                                         1910\n",
       "San Antonio Shopping Center                       1818\n",
       "Ryland Park                                       1747\n",
       "San Salvador at 1st                               1692\n",
       "St James Park                                     1680\n",
       "Evelyn Park and Ride                              1667\n",
       "San Jose Civic Center                             1594\n",
       "Redwood City Caltrain Station                     1554\n",
       "University and Emerson                            1512\n",
       "Arena Green / SAP Center                          1496\n",
       "SJSU - San Salvador at 9th                        1473\n",
       "Washington at Kearney                             1472\n",
       "Cowper at University                              1374\n",
       "Adobe on Almaden                                  1257\n",
       "SJSU 4th at San Carlos                            1170\n",
       "Rengstorff Avenue / California Street             1129\n",
       "California Ave Caltrain Station                   1026\n",
       "Santa Clara County Civic Center                    840\n",
       "Park at Olive                                      750\n",
       "Stanford in Redwood City                           436\n",
       "Mezes Park                                         341\n",
       "Redwood City Medical Center                        311\n",
       "San Mateo County Center                            287\n",
       "Franklin at Maple                                  224\n",
       "Redwood City Public Library                        213\n",
       "Broadway at Main                                    67\n",
       "San Jose Government Center                          23\n",
       "Name: id, Length: 74, dtype: int64"
      ]
     },
     "execution_count": 76,
     "metadata": {},
     "output_type": "execute_result"
    }
   ],
   "source": [
    "trip.groupby(by='start_station_name').id.count().sort_values(ascending=False)"
   ]
  },
  {
   "cell_type": "markdown",
   "metadata": {},
   "source": [
    "- So the the station where most trips start is **San Francisco Caltrain (Townsend at 4th)**. "
   ]
  },
  {
   "cell_type": "code",
   "execution_count": null,
   "metadata": {},
   "outputs": [],
   "source": []
  },
  {
   "cell_type": "code",
   "execution_count": null,
   "metadata": {},
   "outputs": [],
   "source": []
  }
 ],
 "metadata": {
  "kernelspec": {
   "display_name": "Python 3",
   "language": "python",
   "name": "python3"
  },
  "language_info": {
   "codemirror_mode": {
    "name": "ipython",
    "version": 3
   },
   "file_extension": ".py",
   "mimetype": "text/x-python",
   "name": "python",
   "nbconvert_exporter": "python",
   "pygments_lexer": "ipython3",
   "version": "3.7.4"
  }
 },
 "nbformat": 4,
 "nbformat_minor": 2
}
