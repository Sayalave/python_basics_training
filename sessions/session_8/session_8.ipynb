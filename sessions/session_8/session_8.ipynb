{
 "cells": [
  {
   "cell_type": "markdown",
   "metadata": {},
   "source": [
    "# Data visualization"
   ]
  },
  {
   "cell_type": "code",
   "execution_count": 66,
   "metadata": {},
   "outputs": [],
   "source": [
    "import pandas as pd\n",
    "import matplotlib.pyplot as plt\n",
    "from highcharts import Highchart"
   ]
  },
  {
   "cell_type": "markdown",
   "metadata": {},
   "source": [
    "- This notebook explains the basics of visualizing data in Python. \n",
    "- We will use for this example the data [Chicago Park District: Movies in the Parks 2019](https://catalog.data.gov/dataset/chicago-park-district-movies-in-the-parks-2019), which according to the website lists all Movies in the Parks events in Chicago in 2019. "
   ]
  },
  {
   "cell_type": "code",
   "execution_count": 26,
   "metadata": {},
   "outputs": [
    {
     "data": {
      "text/html": [
       "<div>\n",
       "<style scoped>\n",
       "    .dataframe tbody tr th:only-of-type {\n",
       "        vertical-align: middle;\n",
       "    }\n",
       "\n",
       "    .dataframe tbody tr th {\n",
       "        vertical-align: top;\n",
       "    }\n",
       "\n",
       "    .dataframe thead th {\n",
       "        text-align: right;\n",
       "    }\n",
       "</style>\n",
       "<table border=\"1\" class=\"dataframe\">\n",
       "  <thead>\n",
       "    <tr style=\"text-align: right;\">\n",
       "      <th></th>\n",
       "      <th>Day</th>\n",
       "      <th>Date</th>\n",
       "      <th>Park</th>\n",
       "      <th>Park Phone</th>\n",
       "      <th>Title</th>\n",
       "      <th>CC</th>\n",
       "      <th>Rating</th>\n",
       "      <th>Underwriter</th>\n",
       "      <th>Park Address</th>\n",
       "      <th>Location</th>\n",
       "    </tr>\n",
       "  </thead>\n",
       "  <tbody>\n",
       "    <tr>\n",
       "      <th>0</th>\n",
       "      <td>Thu</td>\n",
       "      <td>06/27/2019</td>\n",
       "      <td>Austin Town Hall</td>\n",
       "      <td>(773) 287-7658</td>\n",
       "      <td>Black Panther</td>\n",
       "      <td>Y</td>\n",
       "      <td>PG-13</td>\n",
       "      <td>NaN</td>\n",
       "      <td>5610 W. Lake St.</td>\n",
       "      <td>(41.88784692, -87.76559245)</td>\n",
       "    </tr>\n",
       "    <tr>\n",
       "      <th>1</th>\n",
       "      <td>Mon</td>\n",
       "      <td>07/08/2019</td>\n",
       "      <td>Calumet Park</td>\n",
       "      <td>(312) 747-6039</td>\n",
       "      <td>The Wizard of Oz</td>\n",
       "      <td>Y</td>\n",
       "      <td>G</td>\n",
       "      <td>NaN</td>\n",
       "      <td>9801 S. Ave G</td>\n",
       "      <td>(41.71772004, -87.53150812)</td>\n",
       "    </tr>\n",
       "    <tr>\n",
       "      <th>2</th>\n",
       "      <td>Thu</td>\n",
       "      <td>08/01/2019</td>\n",
       "      <td>Harrison Park</td>\n",
       "      <td>(312) 746-5491</td>\n",
       "      <td>Black Panther</td>\n",
       "      <td>Y</td>\n",
       "      <td>PG-13</td>\n",
       "      <td>NaN</td>\n",
       "      <td>1824 S. Wood St.</td>\n",
       "      <td>(41.85692162, -87.67122476)</td>\n",
       "    </tr>\n",
       "    <tr>\n",
       "      <th>3</th>\n",
       "      <td>Thu</td>\n",
       "      <td>07/18/2019</td>\n",
       "      <td>Hoard Playground Park</td>\n",
       "      <td>(773) 256-1903</td>\n",
       "      <td>Black Panther</td>\n",
       "      <td>Y</td>\n",
       "      <td>PG-13</td>\n",
       "      <td>NaN</td>\n",
       "      <td>7201 S. Dobson Ave.</td>\n",
       "      <td>(41.7640317, -87.59928813)</td>\n",
       "    </tr>\n",
       "    <tr>\n",
       "      <th>4</th>\n",
       "      <td>Fri</td>\n",
       "      <td>06/07/2019</td>\n",
       "      <td>Berger Park Cultural Center</td>\n",
       "      <td>(773) 761-0376</td>\n",
       "      <td>Some Like It Hot</td>\n",
       "      <td>Y</td>\n",
       "      <td>NR</td>\n",
       "      <td>NaN</td>\n",
       "      <td>6205 N. Sheridan Rd.</td>\n",
       "      <td>(41.99480562, -87.65538421)</td>\n",
       "    </tr>\n",
       "  </tbody>\n",
       "</table>\n",
       "</div>"
      ],
      "text/plain": [
       "   Day        Date                         Park      Park Phone  \\\n",
       "0  Thu  06/27/2019             Austin Town Hall  (773) 287-7658   \n",
       "1  Mon  07/08/2019                 Calumet Park  (312) 747-6039   \n",
       "2  Thu  08/01/2019                Harrison Park  (312) 746-5491   \n",
       "3  Thu  07/18/2019        Hoard Playground Park  (773) 256-1903   \n",
       "4  Fri  06/07/2019  Berger Park Cultural Center  (773) 761-0376   \n",
       "\n",
       "              Title CC Rating Underwriter          Park Address  \\\n",
       "0     Black Panther  Y  PG-13         NaN      5610 W. Lake St.   \n",
       "1  The Wizard of Oz  Y      G         NaN         9801 S. Ave G   \n",
       "2     Black Panther  Y  PG-13         NaN      1824 S. Wood St.   \n",
       "3     Black Panther  Y  PG-13         NaN   7201 S. Dobson Ave.   \n",
       "4  Some Like It Hot  Y     NR         NaN  6205 N. Sheridan Rd.   \n",
       "\n",
       "                      Location  \n",
       "0  (41.88784692, -87.76559245)  \n",
       "1  (41.71772004, -87.53150812)  \n",
       "2  (41.85692162, -87.67122476)  \n",
       "3   (41.7640317, -87.59928813)  \n",
       "4  (41.99480562, -87.65538421)  "
      ]
     },
     "execution_count": 26,
     "metadata": {},
     "output_type": "execute_result"
    }
   ],
   "source": [
    "df = pd.read_csv(\"https://data.cityofchicago.org/api/views/7piw-z6r6/rows.csv?accessType=DOWNLOAD\")\n",
    "df.head()"
   ]
  },
  {
   "cell_type": "code",
   "execution_count": null,
   "metadata": {},
   "outputs": [],
   "source": []
  },
  {
   "cell_type": "markdown",
   "metadata": {},
   "source": [
    "## Count of movies by month"
   ]
  },
  {
   "cell_type": "markdown",
   "metadata": {},
   "source": [
    "- Since we want to group by year and month, we start by casting the `Date` column as datetime.\n",
    "- In SQL this would be something like `CAST(Date AS DATE)` or `Date::DATE`"
   ]
  },
  {
   "cell_type": "code",
   "execution_count": 49,
   "metadata": {},
   "outputs": [
    {
     "data": {
      "text/html": [
       "<div>\n",
       "<style scoped>\n",
       "    .dataframe tbody tr th:only-of-type {\n",
       "        vertical-align: middle;\n",
       "    }\n",
       "\n",
       "    .dataframe tbody tr th {\n",
       "        vertical-align: top;\n",
       "    }\n",
       "\n",
       "    .dataframe thead th {\n",
       "        text-align: right;\n",
       "    }\n",
       "</style>\n",
       "<table border=\"1\" class=\"dataframe\">\n",
       "  <thead>\n",
       "    <tr style=\"text-align: right;\">\n",
       "      <th></th>\n",
       "      <th>Day</th>\n",
       "      <th>Date</th>\n",
       "      <th>Park</th>\n",
       "      <th>Park Phone</th>\n",
       "      <th>Title</th>\n",
       "      <th>CC</th>\n",
       "      <th>Rating</th>\n",
       "      <th>Underwriter</th>\n",
       "      <th>Park Address</th>\n",
       "      <th>Location</th>\n",
       "      <th>year</th>\n",
       "      <th>month</th>\n",
       "      <th>year_month</th>\n",
       "    </tr>\n",
       "  </thead>\n",
       "  <tbody>\n",
       "    <tr>\n",
       "      <th>0</th>\n",
       "      <td>Thu</td>\n",
       "      <td>2019-06-27</td>\n",
       "      <td>Austin Town Hall</td>\n",
       "      <td>(773) 287-7658</td>\n",
       "      <td>Black Panther</td>\n",
       "      <td>Y</td>\n",
       "      <td>PG-13</td>\n",
       "      <td>NaN</td>\n",
       "      <td>5610 W. Lake St.</td>\n",
       "      <td>(41.88784692, -87.76559245)</td>\n",
       "      <td>2019</td>\n",
       "      <td>6</td>\n",
       "      <td>2019-6</td>\n",
       "    </tr>\n",
       "    <tr>\n",
       "      <th>1</th>\n",
       "      <td>Mon</td>\n",
       "      <td>2019-07-08</td>\n",
       "      <td>Calumet Park</td>\n",
       "      <td>(312) 747-6039</td>\n",
       "      <td>The Wizard of Oz</td>\n",
       "      <td>Y</td>\n",
       "      <td>G</td>\n",
       "      <td>NaN</td>\n",
       "      <td>9801 S. Ave G</td>\n",
       "      <td>(41.71772004, -87.53150812)</td>\n",
       "      <td>2019</td>\n",
       "      <td>7</td>\n",
       "      <td>2019-7</td>\n",
       "    </tr>\n",
       "    <tr>\n",
       "      <th>2</th>\n",
       "      <td>Thu</td>\n",
       "      <td>2019-08-01</td>\n",
       "      <td>Harrison Park</td>\n",
       "      <td>(312) 746-5491</td>\n",
       "      <td>Black Panther</td>\n",
       "      <td>Y</td>\n",
       "      <td>PG-13</td>\n",
       "      <td>NaN</td>\n",
       "      <td>1824 S. Wood St.</td>\n",
       "      <td>(41.85692162, -87.67122476)</td>\n",
       "      <td>2019</td>\n",
       "      <td>8</td>\n",
       "      <td>2019-8</td>\n",
       "    </tr>\n",
       "    <tr>\n",
       "      <th>3</th>\n",
       "      <td>Thu</td>\n",
       "      <td>2019-07-18</td>\n",
       "      <td>Hoard Playground Park</td>\n",
       "      <td>(773) 256-1903</td>\n",
       "      <td>Black Panther</td>\n",
       "      <td>Y</td>\n",
       "      <td>PG-13</td>\n",
       "      <td>NaN</td>\n",
       "      <td>7201 S. Dobson Ave.</td>\n",
       "      <td>(41.7640317, -87.59928813)</td>\n",
       "      <td>2019</td>\n",
       "      <td>7</td>\n",
       "      <td>2019-7</td>\n",
       "    </tr>\n",
       "    <tr>\n",
       "      <th>4</th>\n",
       "      <td>Fri</td>\n",
       "      <td>2019-06-07</td>\n",
       "      <td>Berger Park Cultural Center</td>\n",
       "      <td>(773) 761-0376</td>\n",
       "      <td>Some Like It Hot</td>\n",
       "      <td>Y</td>\n",
       "      <td>NR</td>\n",
       "      <td>NaN</td>\n",
       "      <td>6205 N. Sheridan Rd.</td>\n",
       "      <td>(41.99480562, -87.65538421)</td>\n",
       "      <td>2019</td>\n",
       "      <td>6</td>\n",
       "      <td>2019-6</td>\n",
       "    </tr>\n",
       "  </tbody>\n",
       "</table>\n",
       "</div>"
      ],
      "text/plain": [
       "   Day       Date                         Park      Park Phone  \\\n",
       "0  Thu 2019-06-27             Austin Town Hall  (773) 287-7658   \n",
       "1  Mon 2019-07-08                 Calumet Park  (312) 747-6039   \n",
       "2  Thu 2019-08-01                Harrison Park  (312) 746-5491   \n",
       "3  Thu 2019-07-18        Hoard Playground Park  (773) 256-1903   \n",
       "4  Fri 2019-06-07  Berger Park Cultural Center  (773) 761-0376   \n",
       "\n",
       "              Title CC Rating Underwriter          Park Address  \\\n",
       "0     Black Panther  Y  PG-13         NaN      5610 W. Lake St.   \n",
       "1  The Wizard of Oz  Y      G         NaN         9801 S. Ave G   \n",
       "2     Black Panther  Y  PG-13         NaN      1824 S. Wood St.   \n",
       "3     Black Panther  Y  PG-13         NaN   7201 S. Dobson Ave.   \n",
       "4  Some Like It Hot  Y     NR         NaN  6205 N. Sheridan Rd.   \n",
       "\n",
       "                      Location  year  month year_month  \n",
       "0  (41.88784692, -87.76559245)  2019      6     2019-6  \n",
       "1  (41.71772004, -87.53150812)  2019      7     2019-7  \n",
       "2  (41.85692162, -87.67122476)  2019      8     2019-8  \n",
       "3   (41.7640317, -87.59928813)  2019      7     2019-7  \n",
       "4  (41.99480562, -87.65538421)  2019      6     2019-6  "
      ]
     },
     "execution_count": 49,
     "metadata": {},
     "output_type": "execute_result"
    }
   ],
   "source": [
    "# Cast Date column as datetime\n",
    "df['Date'] = pd.to_datetime(df['Date'])\n",
    "# Now that the column is parsed as datetime, we can extract year and month\n",
    "df['year'] = df['Date'].dt.year\n",
    "df['month'] = df['Date'].dt.month\n",
    "df['year_month'] = df['year'].astype(str) + '-' + df['month'].astype(str) \n",
    "df.head()"
   ]
  },
  {
   "cell_type": "markdown",
   "metadata": {},
   "source": [
    "- Now we are ready to count the number of movies per month"
   ]
  },
  {
   "cell_type": "code",
   "execution_count": 51,
   "metadata": {},
   "outputs": [
    {
     "data": {
      "text/html": [
       "<div>\n",
       "<style scoped>\n",
       "    .dataframe tbody tr th:only-of-type {\n",
       "        vertical-align: middle;\n",
       "    }\n",
       "\n",
       "    .dataframe tbody tr th {\n",
       "        vertical-align: top;\n",
       "    }\n",
       "\n",
       "    .dataframe thead th {\n",
       "        text-align: right;\n",
       "    }\n",
       "</style>\n",
       "<table border=\"1\" class=\"dataframe\">\n",
       "  <thead>\n",
       "    <tr style=\"text-align: right;\">\n",
       "      <th></th>\n",
       "      <th>year_month</th>\n",
       "      <th>cnt_movies</th>\n",
       "    </tr>\n",
       "  </thead>\n",
       "  <tbody>\n",
       "    <tr>\n",
       "      <th>0</th>\n",
       "      <td>2019-6</td>\n",
       "      <td>59</td>\n",
       "    </tr>\n",
       "    <tr>\n",
       "      <th>1</th>\n",
       "      <td>2019-7</td>\n",
       "      <td>77</td>\n",
       "    </tr>\n",
       "    <tr>\n",
       "      <th>2</th>\n",
       "      <td>2019-8</td>\n",
       "      <td>72</td>\n",
       "    </tr>\n",
       "    <tr>\n",
       "      <th>3</th>\n",
       "      <td>2019-9</td>\n",
       "      <td>2</td>\n",
       "    </tr>\n",
       "  </tbody>\n",
       "</table>\n",
       "</div>"
      ],
      "text/plain": [
       "  year_month  cnt_movies\n",
       "0     2019-6          59\n",
       "1     2019-7          77\n",
       "2     2019-8          72\n",
       "3     2019-9           2"
      ]
     },
     "execution_count": 51,
     "metadata": {},
     "output_type": "execute_result"
    }
   ],
   "source": [
    "cntmovies = df.groupby('year_month').size().reset_index().rename({0:'cnt_movies'}, axis=1)\n",
    "cntmovies.head()"
   ]
  },
  {
   "cell_type": "markdown",
   "metadata": {},
   "source": [
    "- Let's make a bar chart to display the same information. "
   ]
  },
  {
   "cell_type": "code",
   "execution_count": 56,
   "metadata": {},
   "outputs": [
    {
     "data": {
      "image/png": "[encoded data removed]",
      "text/plain": [
       "<Figure size 432x288 with 1 Axes>"
      ]
     },
     "metadata": {
      "needs_background": "light"
     },
     "output_type": "display_data"
    }
   ],
   "source": [
    "plt.bar(cntmovies.year_month, cntmovies.cnt_movies, color='purple')\n",
    "plt.show()"
   ]
  },
  {
   "cell_type": "markdown",
   "metadata": {},
   "source": [
    "- We can make format it in many different ways. "
   ]
  },
  {
   "cell_type": "code",
   "execution_count": 65,
   "metadata": {},
   "outputs": [
    {
     "data": {
      "image/png": "[encoded data removed]",
      "text/plain": [
       "<Figure size 864x360 with 1 Axes>"
      ]
     },
     "metadata": {
      "needs_background": "light"
     },
     "output_type": "display_data"
    }
   ],
   "source": [
    "plt.figure(figsize=(12, 5))\n",
    "plt.bar(cntmovies.year_month, cntmovies.cnt_movies, color='purple')\n",
    "plt.title('Count of Movies in the Park events in Chicago in 2019', size=15)\n",
    "plt.xlabel(\"Year and month\", size=12)\n",
    "plt.ylabel(\"Count of events\", size=12)\n",
    "plt.yticks(size=12)\n",
    "plt.xticks(size=12)\n",
    "plt.show()"
   ]
  },
  {
   "cell_type": "markdown",
   "metadata": {},
   "source": [
    "- We can also use Highcharts to create interactive charts!"
   ]
  },
  {
   "cell_type": "code",
   "execution_count": 74,
   "metadata": {},
   "outputs": [
    {
     "data": {
      "text/html": [
       "<iframe style=\"border:0;outline:none;overflow:hidden\" srcdoc=\"&lt;!DOCTYPE html&gt; &lt;html lang=&quot;en&quot;&gt; &lt;head&gt; &lt;meta charset=&quot;utf-8&quot; /&gt; &lt;link href=&quot;https://www.highcharts.com/highslide/highslide.css&quot; rel=&quot;stylesheet&quot; /&gt; &lt;script type=&quot;text/javascript&quot; src=&quot;https://ajax.googleapis.com/ajax/libs/jquery/1.9.1/jquery.min.js&quot;&gt;&lt;/script&gt; &lt;script type=&quot;text/javascript&quot; src=&quot;https://code.highcharts.com/6/highcharts.js&quot;&gt;&lt;/script&gt; &lt;script type=&quot;text/javascript&quot; src=&quot;https://code.highcharts.com/6/highcharts-more.js&quot;&gt;&lt;/script&gt; &lt;script type=&quot;text/javascript&quot; src=&quot;https://code.highcharts.com/6/modules/heatmap.js&quot;&gt;&lt;/script&gt; &lt;script type=&quot;text/javascript&quot; src=&quot;https://code.highcharts.com/6/modules/exporting.js&quot;&gt;&lt;/script&gt; &lt;/head&gt; &lt;body style=&quot;margin:0;padding:0&quot;&gt; &lt;div id=&quot;container&quot; style=&quot;&quot;&gt;Loading....&lt;/div&gt; &lt;script&gt; $(function(){ Highcharts.setOptions({&quot;global&quot;: {}, &quot;lang&quot;: {}}); var option = {&quot;chart&quot;: {&quot;renderTo&quot;: &quot;container&quot;}, &quot;colors&quot;: {}, &quot;credits&quot;: {&quot;enabled&quot;: false}, &quot;drilldown&quot;: {}, &quot;exporting&quot;: {}, &quot;labels&quot;: {}, &quot;legend&quot;: {}, &quot;loading&quot;: {}, &quot;navigation&quot;: {}, &quot;pane&quot;: {}, &quot;plotOptions&quot;: {&quot;bar&quot;: {&quot;dataLabels&quot;: {&quot;enabled&quot;: true}}, &quot;series&quot;: {&quot;lineWidth&quot;: 5}}, &quot;series&quot;: {}, &quot;subtitle&quot;: {}, &quot;title&quot;: {&quot;text&quot;: &quot;Count of Movies in the Park events in Chicago in 2019&quot;}, &quot;tooltip&quot;: {}, &quot;xAxis&quot;: {&quot;categories&quot;: [&quot;2019-6&quot;, &quot;2019-7&quot;, &quot;2019-8&quot;, &quot;2019-9&quot;], &quot;title&quot;: {&quot;text&quot;: &quot;Year and month&quot;}}, &quot;yAxis&quot;: {&quot;title&quot;: {&quot;text&quot;: &quot;Count of events&quot;}, &quot;labels&quot;: {&quot;overflow&quot;: &quot;justify&quot;}, &quot;gridLineWidth&quot;: 0, &quot;minorGridLineWidth&quot;: 0}}; var chart = new Highcharts.Chart(option); var data = [{&quot;data&quot;: [59, 77, 72, 2], &quot;type&quot;: &quot;bar&quot;, &quot;color&quot;: &quot;#1F618D&quot;, &quot;name&quot;: &quot;Count of events&quot;}]; var dataLen = data.length; for (var ix = 0; ix &lt; dataLen; ix++) { chart.addSeries(data[ix]); } }); &lt;/script&gt; &lt;/body&gt; &lt;/html&gt;\" height=520 width=820></iframe>"
      ],
      "text/plain": [
       "<highcharts.highcharts.highcharts.Highchart at 0x119f664d0>"
      ]
     },
     "execution_count": 74,
     "metadata": {},
     "output_type": "execute_result"
    }
   ],
   "source": [
    "# Format JavaScript\n",
    "options = {'title': {'text': \"Count of Movies in the Park events in Chicago in 2019\"},\n",
    "           'xAxis': {'categories': cntmovies.year_month.tolist(), \n",
    "                     'title': {'text': 'Year and month'}},\n",
    "           'yAxis': {'title': { 'text': 'Count of events'},\n",
    "                     'labels': {'overflow': 'justify'},\n",
    "                     'gridLineWidth': 0,\n",
    "                     'minorGridLineWidth': 0},\n",
    "           'plotOptions': {'bar': {'dataLabels': {'enabled': True}},\n",
    "                           'series': {'lineWidth': 5}}}\n",
    "H = Highchart()\n",
    "H.set_dict_options(options)\n",
    "H.add_data_set(cntmovies.cnt_movies.tolist(), 'bar', 'Count of events', color='#1F618D')\n",
    "H"
   ]
  },
  {
   "cell_type": "code",
   "execution_count": null,
   "metadata": {},
   "outputs": [],
   "source": []
  }
 ],
 "metadata": {
  "kernelspec": {
   "display_name": "Python 3",
   "language": "python",
   "name": "python3"
  },
  "language_info": {
   "codemirror_mode": {
    "name": "ipython",
    "version": 3
   },
   "file_extension": ".py",
   "mimetype": "text/x-python",
   "name": "python",
   "nbconvert_exporter": "python",
   "pygments_lexer": "ipython3",
   "version": "3.7.4"
  }
 },
 "nbformat": 4,
 "nbformat_minor": 2
}
